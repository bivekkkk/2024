{
 "cells": [
  {
   "cell_type": "markdown",
   "id": "222b853b",
   "metadata": {},
   "source": [
    "1. Write a program which will find all such numbers that are divisible by 7 but are not a multiple of 5,\n",
    "between 2000 and 3200 (both included). The numbers should be printed on the output screen.\n",
    "(Bonus point if you can print all the numbers on a single line)"
   ]
  },
  {
   "cell_type": "code",
   "execution_count": 24,
   "id": "4b51d6e5",
   "metadata": {
    "scrolled": true
   },
   "outputs": [
    {
     "data": {
      "text/plain": [
       "'2002,2009,2016,2023,2037,2044,2051,2058,2072,2079,2086,2093,2107,2114,2121,2128,2142,2149,2156,2163,2177,2184,2191,2198,2212,2219,2226,2233,2247,2254,2261,2268,2282,2289,2296,2303,2317,2324,2331,2338,2352,2359,2366,2373,2387,2394,2401,2408,2422,2429,2436,2443,2457,2464,2471,2478,2492,2499,2506,2513,2527,2534,2541,2548,2562,2569,2576,2583,2597,2604,2611,2618,2632,2639,2646,2653,2667,2674,2681,2688,2702,2709,2716,2723,2737,2744,2751,2758,2772,2779,2786,2793,2807,2814,2821,2828,2842,2849,2856,2863,2877,2884,2891,2898,2912,2919,2926,2933,2947,2954,2961,2968,2982,2989,2996,3003,3017,3024,3031,3038,3052,3059,3066,3073,3087,3094,3101,3108,3122,3129,3136,3143,3157,3164,3171,3178,3192,3199'"
      ]
     },
     "execution_count": 24,
     "metadata": {},
     "output_type": "execute_result"
    }
   ],
   "source": [
    "number7=[]\n",
    "for i in range (2000,3201):\n",
    "    if (i%7==0) and (i%5!=0):\n",
    "            number7.append(str(i))\n",
    "','.join(number7)"
   ]
  },
  {
   "cell_type": "markdown",
   "id": "8e9c1bee",
   "metadata": {},
   "source": [
    "2. Write a program that can compute the factorial of a given number. The number whose factorial is to be\n",
    "computed is input from the keyboard."
   ]
  },
  {
   "cell_type": "code",
   "execution_count": 13,
   "id": "725f7840",
   "metadata": {},
   "outputs": [
    {
     "name": "stdout",
     "output_type": "stream",
     "text": [
      "Enter the number: 7\n",
      "The factorial of the given number is:  5040\n"
     ]
    }
   ],
   "source": [
    "# n= user given number\n",
    "n=int(input(\"Enter the number: \"))\n",
    "# f= factorial\n",
    "f=1\n",
    "for i in range(1,n+1):\n",
    "    f=f*i\n",
    "print(\"The factorial of the given number is: \",f)\n"
   ]
  },
  {
   "cell_type": "markdown",
   "id": "236dfcba",
   "metadata": {},
   "source": [
    "3. With a program to take as an input an integer number n, and generate a dictionary that contains (i, i*i)\n",
    "where “i” lies between 1 and n (both included). The program should then print the dictionary."
   ]
  },
  {
   "cell_type": "code",
   "execution_count": 15,
   "id": "7ef54e24",
   "metadata": {},
   "outputs": [
    {
     "name": "stdout",
     "output_type": "stream",
     "text": [
      "Enter an integer number: 5\n",
      "{1: 1, 2: 4, 3: 9, 4: 16, 5: 25}\n"
     ]
    }
   ],
   "source": [
    "# n= integer number \n",
    "n=int(input(\"Enter an integer number: \"))\n",
    "# d=dictionary\n",
    "d = dict((i,i*i) for i in range(1,n+1))\n",
    "print(d)"
   ]
  },
  {
   "cell_type": "markdown",
   "id": "1439b70c",
   "metadata": {},
   "source": [
    "4. Write a program that can accept two strings as input and print the string with maximum length as an\n",
    "output. If two strings have the same length, then the program should print both the strings."
   ]
  },
  {
   "cell_type": "code",
   "execution_count": 22,
   "id": "c8348a02",
   "metadata": {},
   "outputs": [
    {
     "name": "stdout",
     "output_type": "stream",
     "text": [
      "Enter the first string: ball\n",
      "Enter the second string: papa\n",
      "String with maximum length is: ball papa\n",
      "Both string have equal length.\n"
     ]
    }
   ],
   "source": [
    "s1=(input(\"Enter the first string: \"))\n",
    "s2=(input(\"Enter the second string: \"))\n",
    "check1=0\n",
    "check2=0\n",
    "\n",
    "for i in s1: \n",
    "    check1=check1+1\n",
    "    \n",
    "for i in s2: \n",
    "    check2=check2+1\n",
    "\n",
    "if(check1>check2):\n",
    "    print(\"String with maximum length is:\",s1)\n",
    "elif(check1<check2):\n",
    "    print(\"String with maximum length is:\",s2)\n",
    "\n",
    "else:\n",
    "    print(\"String with maximum length is:\",s1,s2)\n",
    "    print(\"Both string have equal length.\")\n",
    "\n",
    "\n"
   ]
  },
  {
   "cell_type": "markdown",
   "id": "32ec6966",
   "metadata": {},
   "source": [
    "5. Write a program which can produce a dictionary where the keys are numbers between 1 and 20 (both\n",
    "included) and the values are the square of keys. The program should print the values only."
   ]
  },
  {
   "cell_type": "code",
   "execution_count": 6,
   "id": "1fb8326b",
   "metadata": {},
   "outputs": [
    {
     "name": "stdout",
     "output_type": "stream",
     "text": [
      "dict_values([1, 4, 9, 16, 25, 36, 49, 64, 81, 100, 121, 144, 169, 196, 225, 256, 289, 324, 361, 400])\n"
     ]
    }
   ],
   "source": [
    "square_key={}\n",
    "\n",
    "for i in range(1,21):\n",
    "    square_key[i]=i**2\n",
    "print(square_key.values())"
   ]
  },
  {
   "cell_type": "markdown",
   "id": "c5c4b586",
   "metadata": {},
   "source": [
    "6. Write a program which can generate and print a list where the values are square of numbers between 1 and\n",
    "20 (both included)."
   ]
  },
  {
   "cell_type": "code",
   "execution_count": 29,
   "id": "9fd48474",
   "metadata": {},
   "outputs": [
    {
     "name": "stdout",
     "output_type": "stream",
     "text": [
      "[1, 4, 9, 16, 25, 36, 49, 64, 81, 100, 121, 144, 169, 196, 225, 256, 289, 324, 361, 400]\n"
     ]
    }
   ],
   "source": [
    "list=[]\n",
    "for i in range (1,21):\n",
    "    list.append(i**2)\n",
    "print(list)"
   ]
  },
  {
   "cell_type": "markdown",
   "id": "1d101977",
   "metadata": {},
   "source": [
    "7. Write a program which can generate a list where the values are square of numbers between 1 and 20\n",
    "(inclusive). The program should only print the last 5 elements of the list."
   ]
  },
  {
   "cell_type": "code",
   "execution_count": 36,
   "id": "b0288c3d",
   "metadata": {},
   "outputs": [
    {
     "name": "stdout",
     "output_type": "stream",
     "text": [
      "[225, 256, 289, 324, 361]\n"
     ]
    }
   ],
   "source": [
    "list=[]\n",
    "for i in range(2,20):\n",
    "    list.append(i**2)\n",
    "print(list[-5:])"
   ]
  },
  {
   "cell_type": "markdown",
   "id": "db7ec5c9",
   "metadata": {},
   "source": [
    "8. Write a program to convert Celsius (C) values into Fahrenheit (F). The program should ask for Celsius\n",
    "value from the user and print the Fahrenheit value as an output."
   ]
  },
  {
   "cell_type": "code",
   "execution_count": 46,
   "id": "c05d6e6b",
   "metadata": {},
   "outputs": [
    {
     "name": "stdout",
     "output_type": "stream",
     "text": [
      "Enter the Celcius Value: 36\n",
      "The Fahrenheit value is:\n",
      "96.8\n"
     ]
    }
   ],
   "source": [
    "# c=Celcius\n",
    "c=int(input(\"Enter the Celcius Value: \"))\n",
    "# f=Fahrenheit\n",
    "f=c*1.8+32\n",
    "print(\"The Fahrenheit value is:\")\n",
    "print(f)"
   ]
  },
  {
   "cell_type": "markdown",
   "id": "12f54d6c",
   "metadata": {},
   "source": [
    "9. Write a program which accepts a string as input from the keyboard. If the input string is \"even\" or\n",
    "\"EVEN\" or \"Even\", print the even numbers from the list (my_numbers) given below. If the string is \"odd\" or\n",
    "\"ODD\" or \"Odd\", print the odd numbers from the list. Otherwise simply print “Unknown Input!”"
   ]
  },
  {
   "cell_type": "code",
   "execution_count": 12,
   "id": "2f1de1ab",
   "metadata": {},
   "outputs": [
    {
     "name": "stdout",
     "output_type": "stream",
     "text": [
      "Enter a string: ODD\n",
      "[7, 11, 19, 1, 37, 5, 3, 73]\n"
     ]
    }
   ],
   "source": [
    "string=(input(\"Enter a string: \"))\n",
    "my_numbers = [7, 2, 4, 11, 19, 24, 66, 1, 42, 22, 37, 5, 3, 92, 73]\n",
    "\n",
    "if (string==\"EVEN\")or(string==\"Even\")or(string==\"even\"):\n",
    "    even_list=[]\n",
    "    for i in my_numbers:\n",
    "        if(i%2==0):\n",
    "            even_list.append(i)\n",
    "    print(even_list) \n",
    "\n",
    "elif(string==\"ODD\")or(string==\"Odd\")or(string==\"odd\"):\n",
    "    odd_list=[]\n",
    "    for i in my_numbers:\n",
    "        if(i%2!=0):\n",
    "            odd_list.append(i)\n",
    "    print(odd_list)\n",
    "else:\n",
    "    print(\"Unknown Input!\")\n",
    "    \n",
    "        \n"
   ]
  },
  {
   "cell_type": "markdown",
   "id": "b547a9f3",
   "metadata": {},
   "source": [
    "10. Write a program that prints the numbers from 1 to 20. But for multiples of three print “Fizz” instead of\n",
    "the number and for the multiples of five print “Buzz”. For numbers which are multiples of both three and\n",
    "five print “Fizz Buzz”."
   ]
  },
  {
   "cell_type": "code",
   "execution_count": 4,
   "id": "2f6ad0c0",
   "metadata": {},
   "outputs": [
    {
     "name": "stdout",
     "output_type": "stream",
     "text": [
      "1\n",
      "2\n",
      "Fizz\n",
      "4\n",
      "Buzz\n",
      "Fizz\n",
      "7\n",
      "8\n",
      "Fizz\n",
      "Buzz\n",
      "11\n",
      "Fizz\n",
      "13\n",
      "14\n",
      "Fizz Buzz\n",
      "16\n",
      "17\n",
      "Fizz\n",
      "19\n",
      "Buzz\n"
     ]
    }
   ],
   "source": [
    "for i in range(1,21):\n",
    "    if i%3==0 and i%5==0:\n",
    "        print(\"Fizz Buzz\")\n",
    "        continue\n",
    "    elif i%5==0:\n",
    "        print(\"Buzz\")\n",
    "        continue\n",
    "    \n",
    "    elif i%3==0:\n",
    "        print(\"Fizz\")\n",
    "        continue\n",
    "    print(i)\n",
    "    "
   ]
  },
  {
   "cell_type": "code",
   "execution_count": null,
   "id": "fd387a17",
   "metadata": {},
   "outputs": [],
   "source": []
  }
 ],
 "metadata": {
  "kernelspec": {
   "display_name": "Python 3 (ipykernel)",
   "language": "python",
   "name": "python3"
  },
  "language_info": {
   "codemirror_mode": {
    "name": "ipython",
    "version": 3
   },
   "file_extension": ".py",
   "mimetype": "text/x-python",
   "name": "python",
   "nbconvert_exporter": "python",
   "pygments_lexer": "ipython3",
   "version": "3.9.13"
  }
 },
 "nbformat": 4,
 "nbformat_minor": 5
}
