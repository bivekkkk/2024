{
 "cells": [
  {
   "cell_type": "markdown",
   "metadata": {},
   "source": [
    "1. Write a python function that computes the square of a number. The function should return the\n",
    "output as a tuple in the following form: (a, a2) where a is the input value to the function.\n"
   ]
  },
  {
   "cell_type": "code",
   "execution_count": 4,
   "metadata": {},
   "outputs": [
    {
     "data": {
      "text/plain": [
       "(4, 16)"
      ]
     },
     "execution_count": 4,
     "metadata": {},
     "output_type": "execute_result"
    }
   ],
   "source": [
    "def calcsqr(num):\n",
    "    sqrtuple=num, num**2\n",
    "    return sqrtuple\n",
    "\n",
    "calcsqr(4)"
   ]
  },
  {
   "cell_type": "markdown",
   "metadata": {},
   "source": [
    "2. Write a function that can accept two strings as input and concatenate them and then print it as an\n",
    "output."
   ]
  },
  {
   "cell_type": "code",
   "execution_count": 1,
   "metadata": {},
   "outputs": [
    {
     "name": "stdout",
     "output_type": "stream",
     "text": [
      "BivekKumar\n"
     ]
    }
   ],
   "source": [
    "def concatstr(a=\"\",b=\"\"):\n",
    "    print(a+b)\n",
    "\n",
    "concatstr(\"Bivek\", \"Kumar\")    "
   ]
  },
  {
   "cell_type": "markdown",
   "metadata": {},
   "source": [
    "3. Write a function that can accept an integer number as an input and print \"Even number\" if the\n",
    "number is even, otherwise print \"Odd number\"."
   ]
  },
  {
   "cell_type": "code",
   "execution_count": 3,
   "metadata": {},
   "outputs": [
    {
     "name": "stdout",
     "output_type": "stream",
     "text": [
      "Even number\n"
     ]
    }
   ],
   "source": [
    "def checknum(number):\n",
    "    if number%2==0: print(\"Even number\")\n",
    "    else: print(\"Odd number\")\n",
    "\n",
    "checknum(6)    "
   ]
  },
  {
   "cell_type": "markdown",
   "metadata": {},
   "source": [
    "4. Write a function that can print a dictionary where the keys are numbers between 1 and 20 (both\n",
    "included) and the values are square of keys."
   ]
  },
  {
   "cell_type": "code",
   "execution_count": 24,
   "metadata": {},
   "outputs": [
    {
     "name": "stdout",
     "output_type": "stream",
     "text": [
      "{1: 1, 2: 4, 3: 9, 4: 16, 5: 25, 6: 36, 7: 49, 8: 64, 9: 81, 10: 100, 11: 121, 12: 144, 13: 169, 14: 196, 15: 225, 16: 256, 17: 289, 18: 324, 19: 361, 20: 400}\n"
     ]
    }
   ],
   "source": [
    "def gensqrdict(number=1):\n",
    "    sqrdict={number : number**2 for number in range(1,21)}\n",
    "    print(sqrdict)\n",
    "gensqrdict() "
   ]
  },
  {
   "cell_type": "markdown",
   "metadata": {},
   "source": [
    "5. Write a function to compute the square-root of a given number. If the given number is negative,\n",
    "your function should give an error message."
   ]
  },
  {
   "cell_type": "code",
   "execution_count": 5,
   "metadata": {},
   "outputs": [
    {
     "name": "stdout",
     "output_type": "stream",
     "text": [
      "8.0\n"
     ]
    }
   ],
   "source": [
    "def computesqrt(number):\n",
    "    if number>=0: print(number**0.5)\n",
    "    else: print(\"error negative value\")\n",
    "\n",
    "computesqrt(64)    \n"
   ]
  },
  {
   "cell_type": "markdown",
   "metadata": {},
   "source": [
    "6. Write a function to input two separate lists, one with names (name_list) and another with\n",
    "numbers (number_list). Your function should then output another list (output_list) which contains\n",
    "tuples of names and number.\n",
    "\n",
    "name_list = [“Dan Mace”, “Connor Meyer”, “Adam Smith”, “John Watson”]\n",
    "number_list = [98980000, 777890879, 123087699, 960008779]\n",
    "output_list = [ (Dan Mace, 98980000), (Connor Meyer, 777890879), (Adam Smith, 123087699), (John\n",
    "Watson, 960008779) ]"
   ]
  },
  {
   "cell_type": "code",
   "execution_count": 26,
   "metadata": {},
   "outputs": [
    {
     "data": {
      "text/plain": [
       "[('Dan Mace', 98980000),\n",
       " ('Connor Meyer', 777890879),\n",
       " ('Adam Smith', 123087699),\n",
       " ('John Watson', 960008779)]"
      ]
     },
     "execution_count": 26,
     "metadata": {},
     "output_type": "execute_result"
    }
   ],
   "source": [
    "def mergelists(name_list1, number_list1):\n",
    "    outputlist=[]\n",
    "    for i in range(len(name_list1)):\n",
    "        name=name_list1[i]\n",
    "        number=number_list1[i]\n",
    "        outputlist.append((name, number))\n",
    "    return(outputlist)\n",
    "\n",
    "name_list = [\"Dan Mace\", \"Connor Meyer\", \"Adam Smith\", \"John Watson\"]\n",
    "number_list = [98980000, 777890879, 123087699, 960008779]\n",
    "\n",
    "mergelists(name_list, number_list)\n",
    "\n"
   ]
  },
  {
   "cell_type": "markdown",
   "metadata": {},
   "source": [
    "7. With a given tuple (1,2,3,4,5,6,7,8,9,10), write a program to print the first half values in one line\n",
    "and the last half values in another line."
   ]
  },
  {
   "cell_type": "code",
   "execution_count": 27,
   "metadata": {},
   "outputs": [
    {
     "name": "stdout",
     "output_type": "stream",
     "text": [
      "(1, 2, 3, 4, 5)\n",
      "(6, 7, 8, 9, 10)\n"
     ]
    }
   ],
   "source": [
    "numb=1,2,3,4,5,6,7,8,9,10\n",
    "print(numb[:5])\n",
    "print(numb[5:])"
   ]
  },
  {
   "cell_type": "markdown",
   "metadata": {},
   "source": [
    "8. Write a function that takes in a list of usernames of students. The function should then output\n",
    "another list which returns the email addresses by adding “@thebritishcollege.edu.np” to the\n",
    "usernames in the list. The output of your function should be a list.\n",
    "Input:\n",
    "student_username = [ksmith, rsouza, lgarber, aghods, shassan, proy]\n",
    "Output:\n",
    "student_email = [ksmith@thebritishcollege.edu.np, rsouza@thebritishcollege.edu.np,\n",
    "lgarber@thebritishcollege.edu.np, aghods@thebritishcollege.edu.np, shassan@thebritishcollege.edu.np,\n",
    "proy@thebritishcollege.edu.np]"
   ]
  },
  {
   "cell_type": "code",
   "execution_count": 28,
   "metadata": {},
   "outputs": [
    {
     "name": "stdout",
     "output_type": "stream",
     "text": [
      "student_email=  ['ksmith@britishcollege.edu.np', 'rsouza@britishcollege.edu.np', 'lgarber@britishcollege.edu.np', 'aghods@britishcollege.edu.np', 'shassan@britishcollege.edu.np', 'proy@britishcollege.edu.np']\n"
     ]
    }
   ],
   "source": [
    "def domaingen(names_list):\n",
    "    domain=\"@britishcollege.edu.np\"\n",
    "    student_email=[i+domain for i in names_list]\n",
    "    print(\"student_email= \",student_email)\n",
    "\n",
    "\n",
    "student_username = [\"ksmith\", \"rsouza\", \"lgarber\", \"aghods\", \"shassan\", \"proy\"]    \n",
    "domaingen(student_username)"
   ]
  },
  {
   "cell_type": "markdown",
   "metadata": {},
   "source": [
    "9. In the list given below, use a while loop to print the output. Your loop should run until all the\n",
    "items in the list have been printed.\n",
    "name_list = [ (Dan Mace, 98980000), (Connor Meyer, 777890879), (Adam Smith, 123087699), (John\n",
    "Watson, 960008779) ]\n",
    "\n",
    "Your output should look like:\n",
    "Name: Dan Mace\n",
    "Contact no: 98980000\n",
    ".\n",
    ".\n",
    "."
   ]
  },
  {
   "cell_type": "code",
   "execution_count": 29,
   "metadata": {},
   "outputs": [
    {
     "name": "stdout",
     "output_type": "stream",
     "text": [
      "Name:  Dan Mace\n",
      "Contact no:  98980000\n",
      "Name:  Connor Meyer\n",
      "Contact no:  777890879\n",
      "Name:  Adam Smith\n",
      "Contact no:  123087699\n",
      "Name:  JohnWatson\n",
      "Contact no:  960008779\n"
     ]
    }
   ],
   "source": [
    "name_list = [ (\"Dan Mace\", 98980000), (\"Connor Meyer\", 777890879), (\"Adam Smith\", 123087699), (\"JohnWatson\", 960008779) ]\n",
    "i=0\n",
    "\n",
    "while i < len(name_list):\n",
    "    print(\"Name: \", name_list[i][0])\n",
    "    print(\"Contact no: \", name_list[i][1])\n",
    "    i += 1    \n",
    "\n"
   ]
  },
  {
   "cell_type": "markdown",
   "metadata": {},
   "source": [
    "10. Write a function that accepts a list of tuples as an input, and outputs the values as a dictionary\n",
    "shown below:\n",
    "input_list = [ (Dan Mace, 98980000), (Connor Meyer, 777890879), (Adam Smith, 123087699), (John\n",
    "Watson, 960008779) ]\n",
    "output_dict = {Dan Mace: 98980000, Connor Meyer: 777890879, Adam Smith: 123087699, John Watson:\n",
    "960008779}"
   ]
  },
  {
   "cell_type": "code",
   "execution_count": 30,
   "metadata": {},
   "outputs": [
    {
     "name": "stdout",
     "output_type": "stream",
     "text": [
      "{'Dan Mace': 98980000, 'Connor Meyer': 777890879, 'Adam Smith': 123087699, 'JohnWatson': 960008779}\n"
     ]
    }
   ],
   "source": [
    "def geninfodict(info_list):\n",
    "    output_dict={info_list[i][0]: info_list[i][1] for i in range(len(info_list))}\n",
    "    print(output_dict)\n",
    "\n",
    "input_list = [ (\"Dan Mace\", 98980000), (\"Connor Meyer\", 777890879), (\"Adam Smith\", 123087699), (\"JohnWatson\", 960008779)]  \n",
    "geninfodict(input_list)  \n",
    "   \n"
   ]
  },
  {
   "cell_type": "markdown",
   "metadata": {},
   "source": [
    "11. Write a function to go through a string and count the number of words in the given string.\n",
    "input_str = 'If you count the words in this sentence you will get twelve'\n",
    "Your output must be as follows:\n",
    "number of words: 12"
   ]
  },
  {
   "cell_type": "code",
   "execution_count": 31,
   "metadata": {},
   "outputs": [
    {
     "name": "stdout",
     "output_type": "stream",
     "text": [
      "number of words:  12\n"
     ]
    }
   ],
   "source": [
    "def countwords(sentence):\n",
    "    num=1\n",
    "    for words in sentence:\n",
    "        if words==\" \":\n",
    "            num+=1\n",
    "    print(\"number of words: \", num)  \n",
    "\n",
    "input_str = 'If you count the words in this sentence you will get twelve'         \n",
    "countwords(input_str)\n"
   ]
  },
  {
   "cell_type": "markdown",
   "metadata": {},
   "source": [
    "12. Write a function to print Fibonacci sequence up-to the given term.\n",
    "For example: If a user inputs 7, your function should print: 1, 1, 2, 3, 5, 8, 13\n",
    "if a user inputs 9, your function should print: 1, 1, 2, 3, 5, 8, 13, 21, 34\n"
   ]
  },
  {
   "cell_type": "code",
   "execution_count": 6,
   "metadata": {},
   "outputs": [
    {
     "name": "stdout",
     "output_type": "stream",
     "text": [
      "1 1 2 3 5 8 "
     ]
    }
   ],
   "source": [
    "def Fibonacci(number):\n",
    "    n1, n2= 1,1\n",
    "    if number>1:    \n",
    "        print(n1,n2, end=\" \")\n",
    "        for i in range(2, number):\n",
    "            next_term = n1 + n2\n",
    "            print(next_term,end=\" \")\n",
    "            n1, n2 = n2, next_term\n",
    "    elif number==1:\n",
    "        print(1)\n",
    "    else: print(\"number should be greater than 0\")\n",
    "\n",
    "Fibonacci(6)            "
   ]
  },
  {
   "cell_type": "markdown",
   "metadata": {},
   "source": [
    "13. Write a program to play a game of rock, paper and scissor between two players. Take two user\n",
    "inputs from the keyboard and according to user's choice decide who wins."
   ]
  },
  {
   "cell_type": "code",
   "execution_count": 9,
   "metadata": {},
   "outputs": [
    {
     "name": "stdout",
     "output_type": "stream",
     "text": [
      "player1:rock,paper,scissors:scissors\n",
      "player2:rock,paper,scissorspaper\n",
      "Player1 wins\n"
     ]
    }
   ],
   "source": [
    "choices = {\"rock\": 0, \"paper\": 1, \"scissors\": 2}\n",
    "\n",
    "Player1 = choices[input(\"player1:rock,paper,scissors:\").lower()]\n",
    "Player2 = choices[input(\"player2:rock,paper,scissors\").lower()]\n",
    "\n",
    "score = (Player1 - Player2) % 3\n",
    "\n",
    "if score == 1:\n",
    "    print(\"Player1 wins\")\n",
    "elif score == 0:\n",
    "    print(\"Tie\")\n",
    "else:\n",
    "    print(\"Player2 wins\")"
   ]
  },
  {
   "cell_type": "markdown",
   "metadata": {},
   "source": [
    "14. Write a Python program to construct the following pattern.\n",
    "1\n",
    "22\n",
    "333\n",
    "4444\n",
    "55555\n",
    "666666\n",
    "7777777\n",
    "88888888\n",
    "999999999"
   ]
  },
  {
   "cell_type": "code",
   "execution_count": null,
   "metadata": {},
   "outputs": [
    {
     "name": "stdout",
     "output_type": "stream",
     "text": [
      "1\n",
      "22\n",
      "333\n",
      "4444\n",
      "55555\n",
      "666666\n",
      "7777777\n",
      "88888888\n",
      "999999999\n"
     ]
    }
   ],
   "source": [
    "for i in range(1, 10):\n",
    "    for j in range(i):\n",
    "        print(i, end=\"\")\n",
    "    print(\"\")"
   ]
  },
  {
   "cell_type": "markdown",
   "metadata": {},
   "source": [
    "15. Write a Python function that accepts a hyphen-separated sequence of words as input and prints\n",
    "the words in a hyphen-separated sequence after sorting them alphabetically.\n",
    "For example:\n",
    "If your input is : s-i-t-c-o-m\n",
    "Your output should be : c-i-m-o-s-t"
   ]
  },
  {
   "cell_type": "code",
   "execution_count": null,
   "metadata": {},
   "outputs": [
    {
     "data": {
      "text/plain": [
       "'c-i-m-o-s-t'"
      ]
     },
     "execution_count": 12,
     "metadata": {},
     "output_type": "execute_result"
    }
   ],
   "source": [
    "def sorthifen(word):\n",
    "    words=word.split(\"-\")\n",
    "    words.sort()\n",
    "    return '-'.join(words)\n",
    "\n",
    "\n",
    "sorthifen(\"s-i-t-c-o-m\")    \n"
   ]
  }
 ],
 "metadata": {
  "kernelspec": {
   "display_name": "Python 3 (ipykernel)",
   "language": "python",
   "name": "python3"
  },
  "language_info": {
   "codemirror_mode": {
    "name": "ipython",
    "version": 3
   },
   "file_extension": ".py",
   "mimetype": "text/x-python",
   "name": "python",
   "nbconvert_exporter": "python",
   "pygments_lexer": "ipython3",
   "version": "3.9.13"
  }
 },
 "nbformat": 4,
 "nbformat_minor": 2
}
