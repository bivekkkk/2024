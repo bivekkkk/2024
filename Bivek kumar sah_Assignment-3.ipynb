{
 "cells": [
  {
   "cell_type": "markdown",
   "id": "58dfeac4",
   "metadata": {},
   "source": [
    "1. Handle the exception thrown by the code below by using try and except blocks.\n",
    "for i in ['a','b','c']:\n",
    "print(i**2)"
   ]
  },
  {
   "cell_type": "code",
   "execution_count": 3,
   "id": "9b93613e",
   "metadata": {},
   "outputs": [
    {
     "name": "stdout",
     "output_type": "stream",
     "text": [
      "a is not a number\n",
      "b is not a number\n",
      "c is not a number\n"
     ]
    }
   ],
   "source": [
    "for i in ['a','b','c']:\n",
    "    try:\n",
    "        print(i**2)\n",
    "    except TypeError:\n",
    "        print(f\"{i} is not a number\")\n",
    "        \n",
    "        \n",
    "        \n"
   ]
  },
  {
   "cell_type": "markdown",
   "id": "558db75b",
   "metadata": {},
   "source": [
    "2. Write a function that asks for an integer and prints the square of it. Use a while loop with a try,\n",
    "except, else block to account for incorrect inputs.\n",
    "This should be the output of your function:\n",
    "Input an integer: “hello”\n",
    "Unrecognized number! Please try again!\n",
    "Input an integer: 2\n",
    "You entered 2, your number squared is: 4"
   ]
  },
  {
   "cell_type": "code",
   "execution_count": 3,
   "id": "461d93a7",
   "metadata": {},
   "outputs": [
    {
     "name": "stdout",
     "output_type": "stream",
     "text": [
      "Enter a interger: 7\n",
      "Square of 7 is:49\n"
     ]
    }
   ],
   "source": [
    "def int_square():\n",
    "    while True:\n",
    "        try:\n",
    "            x=int(input(\"Enter a interger: \"))\n",
    "        except ValueError:\n",
    "            print(\"Invalid Input!!\")\n",
    "        else:\n",
    "            print(f\"Square of {x} is:{x**2}\")\n",
    "            break\n",
    "int_square()"
   ]
  },
  {
   "cell_type": "markdown",
   "id": "651b762e",
   "metadata": {},
   "source": [
    "3. Complete the Line class given below. Your class should accept two sets of coordinate points as\n",
    "tuples. Write two methods within the class, one to compute distance between two points, and\n",
    "another to compute the slope.\n",
    "You have to complete the code given below:\n",
    "class Line:\n",
    "def __init__(self,coordinateA,coordinateB):\n",
    "pass\n",
    "def distance(self):\n",
    "pass\n",
    "def slope(self):\n",
    "pass\n",
    "Example output:\n",
    "c1 = (3, 2)\n",
    "c2 = (8, 10)\n",
    "myline = Line(c1, c2)"
   ]
  },
  {
   "cell_type": "code",
   "execution_count": 7,
   "id": "e33588c3",
   "metadata": {},
   "outputs": [
    {
     "name": "stdout",
     "output_type": "stream",
     "text": [
      "Distance: 9.433981132056603\n",
      "Slope: 1.6\n"
     ]
    }
   ],
   "source": [
    "class Line:\n",
    "    def __init__(self, coordinateA, coordinateB):\n",
    "        self.coordinateA = coordinateA\n",
    "        self.coordinateB = coordinateB\n",
    "    def distance(self):\n",
    "        x1,y1=self.coordinateA\n",
    "        x2,y2=self.coordinateB\n",
    "        distance=((x2-x1)**2+(y2-y1)**2)**0.5\n",
    "        return distance\n",
    "    def slope(self):\n",
    "        x1,y1=self.coordinateA\n",
    "        x2,y2=self.coordinateB\n",
    "        slope=(y2-y1)/(x2-x1)\n",
    "        return slope\n",
    "c1=(3,2)\n",
    "c2=(8,10)\n",
    "myline=Line(c1, c2)\n",
    "\n",
    "print(\"Distance:\", myline.distance())\n",
    "print(\"Slope:\", myline.slope())"
   ]
  },
  {
   "cell_type": "markdown",
   "id": "8ca4f214",
   "metadata": {},
   "source": [
    "4. Complete the class given below:\n",
    "class Cylinder:\n",
    "def __init__(self,height=1,radius=1,):\n",
    "pass\n",
    "def volume(self):\n",
    "pass\n",
    "def surface_area(self):\n",
    "pass"
   ]
  },
  {
   "cell_type": "code",
   "execution_count": 8,
   "id": "c7ea9a0d",
   "metadata": {},
   "outputs": [
    {
     "name": "stdout",
     "output_type": "stream",
     "text": [
      "Volume of Cylinder is:  3.14\n",
      "Surface area of cylinder is:  9.42\n"
     ]
    }
   ],
   "source": [
    "class Cylinder:\n",
    "    def __init__(self,height=1,radius=1,pie=3.14):\n",
    "        self.height=height\n",
    "        self.radius=radius\n",
    "        self.pie=pie\n",
    "    def volume(self):\n",
    "        vol=self.pie*(self.radius**2)*self.height\n",
    "        return vol\n",
    "    def surface_area(self):\n",
    "        surface_area=(2*self.pie*self.radius*self.height)+(self.pie*(self.radius**2)*self.height)\n",
    "        return surface_area\n",
    "\n",
    "\n",
    "x=Cylinder()\n",
    "print(\"Volume of Cylinder is: \", x.volume())\n",
    "print(\"Surface area of cylinder is: \", x.surface_area())\n",
    "        \n",
    "    "
   ]
  },
  {
   "cell_type": "markdown",
   "id": "3eb24982",
   "metadata": {},
   "source": [
    "5. Define a class InputOutString which has at least two methods: getString: to get a string from\n",
    "console input, printString: to print the string in upper case. Also please include simple test function\n",
    "to test the class methods."
   ]
  },
  {
   "cell_type": "code",
   "execution_count": 25,
   "id": "56b4e888",
   "metadata": {},
   "outputs": [],
   "source": [
    "class InputOutString():\n",
    "    \n",
    "    def __init__(self):\n",
    "        self.string=(str(input(\"Enter any string\")))\n",
    "    \n",
    "    def getString(self):\n",
    "        getString=self.string\n",
    "        return self.string\n",
    "    \n",
    "    def printString(self):\n",
    "         printString=self.string.upper()\n",
    "         return \"Input String in upper case: \" + printString\n",
    "    \n"
   ]
  },
  {
   "cell_type": "code",
   "execution_count": 26,
   "id": "9e1d29dd",
   "metadata": {},
   "outputs": [
    {
     "name": "stdout",
     "output_type": "stream",
     "text": [
      "Enter any stringdad\n",
      "Input String in capital letters: DAD\n"
     ]
    }
   ],
   "source": [
    "def simple_test():\n",
    "    x=InputOutString()\n",
    "    x.getString()\n",
    "    print(x.printString())\n",
    "simple_test()"
   ]
  },
  {
   "cell_type": "markdown",
   "id": "32bc8578",
   "metadata": {},
   "source": [
    "6. Write a python program to copy the contents of one file to another. Your new file should be\n",
    "named as old file name followed by a 1. For example: if your original file is named: myfile.txt, your\n",
    "new file should be named: myfile1.txt"
   ]
  },
  {
   "cell_type": "code",
   "execution_count": 2,
   "id": "e22f8732",
   "metadata": {},
   "outputs": [
    {
     "ename": "FileNotFoundError",
     "evalue": "[Errno 2] No such file or directory: 'myfile.txt'",
     "output_type": "error",
     "traceback": [
      "\u001b[0;31m---------------------------------------------------------------------------\u001b[0m",
      "\u001b[0;31mFileNotFoundError\u001b[0m                         Traceback (most recent call last)",
      "\u001b[0;32m/var/folders/ln/ht9jycg54dzbq47s8m2892_m0000gn/T/ipykernel_40402/3852962832.py\u001b[0m in \u001b[0;36m<module>\u001b[0;34m\u001b[0m\n\u001b[0;32m----> 1\u001b[0;31m \u001b[0mmy_file\u001b[0m \u001b[0;34m=\u001b[0m \u001b[0mopen\u001b[0m\u001b[0;34m(\u001b[0m\u001b[0;34m\"myfile.txt\"\u001b[0m\u001b[0;34m,\u001b[0m \u001b[0;34m\"r\"\u001b[0m\u001b[0;34m)\u001b[0m\u001b[0;34m\u001b[0m\u001b[0;34m\u001b[0m\u001b[0m\n\u001b[0m\u001b[1;32m      2\u001b[0m \u001b[0mmy_file1\u001b[0m \u001b[0;34m=\u001b[0m \u001b[0mopen\u001b[0m\u001b[0;34m(\u001b[0m\u001b[0;34m\"myfile1.txt\"\u001b[0m\u001b[0;34m,\u001b[0m \u001b[0;34m\"w\"\u001b[0m\u001b[0;34m)\u001b[0m\u001b[0;34m\u001b[0m\u001b[0;34m\u001b[0m\u001b[0m\n\u001b[1;32m      3\u001b[0m \u001b[0mread_file\u001b[0m\u001b[0;34m=\u001b[0m\u001b[0mmy_file\u001b[0m\u001b[0;34m.\u001b[0m\u001b[0mread\u001b[0m\u001b[0;34m(\u001b[0m\u001b[0;34m)\u001b[0m\u001b[0;34m\u001b[0m\u001b[0;34m\u001b[0m\u001b[0m\n\u001b[1;32m      4\u001b[0m \u001b[0mmy_file1\u001b[0m\u001b[0;34m.\u001b[0m\u001b[0mwrite\u001b[0m\u001b[0;34m(\u001b[0m\u001b[0mread_file\u001b[0m\u001b[0;34m)\u001b[0m\u001b[0;34m\u001b[0m\u001b[0;34m\u001b[0m\u001b[0m\n\u001b[1;32m      5\u001b[0m \u001b[0mmy_file\u001b[0m\u001b[0;34m.\u001b[0m\u001b[0mclose\u001b[0m\u001b[0;34m(\u001b[0m\u001b[0;34m)\u001b[0m\u001b[0;34m\u001b[0m\u001b[0;34m\u001b[0m\u001b[0m\n",
      "\u001b[0;31mFileNotFoundError\u001b[0m: [Errno 2] No such file or directory: 'myfile.txt'"
     ]
    }
   ],
   "source": [
    "my_file = open(\"myfile.txt\", \"r\")\n",
    "my_file1 = open(\"myfile1.txt\", \"w\")\n",
    "read_file=my_file.read()\n",
    "my_file1.write(read_file)\n",
    "my_file.close()\n",
    "my_file1.close()"
   ]
  },
  {
   "cell_type": "markdown",
   "id": "5c0e33e1",
   "metadata": {},
   "source": [
    "7. Write a lambda function that takes in two numbers, and returns the sum of the squares of the\n",
    "input numbers.\n",
    "Example: If your input is 2, 3, your output should be : 22\n",
    "\n",
    "+ 32 i.e. 13"
   ]
  },
  {
   "cell_type": "code",
   "execution_count": null,
   "id": "33f3f563",
   "metadata": {},
   "outputs": [],
   "source": [
    "x=int(input(\"Enter a number: \"))\n",
    "y=int(input(\"Enter another number: \"))\n",
    "sum_of_square= lambda x,y:(x**2)+(y**2)\n",
    "req=sum_of_square(x,y)\n",
    "print(f\"Sum of the squares: {req}\")"
   ]
  },
  {
   "cell_type": "code",
   "execution_count": null,
   "id": "b71d4eba",
   "metadata": {},
   "outputs": [],
   "source": []
  },
  {
   "cell_type": "code",
   "execution_count": null,
   "id": "c27b76c2",
   "metadata": {},
   "outputs": [],
   "source": []
  }
 ],
 "metadata": {
  "kernelspec": {
   "display_name": "Python 3 (ipykernel)",
   "language": "python",
   "name": "python3"
  },
  "language_info": {
   "codemirror_mode": {
    "name": "ipython",
    "version": 3
   },
   "file_extension": ".py",
   "mimetype": "text/x-python",
   "name": "python",
   "nbconvert_exporter": "python",
   "pygments_lexer": "ipython3",
   "version": "3.9.13"
  }
 },
 "nbformat": 4,
 "nbformat_minor": 5
}
